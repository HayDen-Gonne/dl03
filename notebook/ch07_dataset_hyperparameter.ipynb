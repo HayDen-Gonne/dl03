{
  "nbformat": 4,
  "nbformat_minor": 0,
  "metadata": {
    "colab": {
      "provenance": [],
      "authorship_tag": "ABX9TyNVRljDcaj4rv617xDBSqA7",
      "include_colab_link": true
    },
    "kernelspec": {
      "name": "python3",
      "display_name": "Python 3"
    },
    "language_info": {
      "name": "python"
    }
  },
  "cells": [
    {
      "cell_type": "markdown",
      "metadata": {
        "id": "view-in-github",
        "colab_type": "text"
      },
      "source": [
        "<a href=\"https://colab.research.google.com/github/HayDen-Gonne/dl03/blob/main/notebook/ch07_dataset_hyperparameter.ipynb\" target=\"_parent\"><img src=\"https://colab.research.google.com/assets/colab-badge.svg\" alt=\"Open In Colab\"/></a>"
      ]
    },
    {
      "cell_type": "markdown",
      "source": [
        "# Dataset\n",
        "#Hyperparameter section"
      ],
      "metadata": {
        "id": "-FXIgp8FGOmQ"
      }
    },
    {
      "cell_type": "code",
      "source": [
        "#dataset\n",
        "import numpy as np\n",
        "\n",
        "array = np.array([[[1,2,3],[4,5,6]],[[7,8,9],[10,11,12]],[[13,14,15],[16,17,18]]])\n",
        "array.shape, array.ndim, array.dtype"
      ],
      "metadata": {
        "colab": {
          "base_uri": "https://localhost:8080/"
        },
        "id": "5O5CU8I4GaWH",
        "outputId": "0acb08de-95ac-479d-8ce0-e1f0fd4f3057"
      },
      "execution_count": 5,
      "outputs": [
        {
          "output_type": "execute_result",
          "data": {
            "text/plain": [
              "((3, 2, 3), 3, dtype('int64'))"
            ]
          },
          "metadata": {},
          "execution_count": 5
        }
      ]
    },
    {
      "cell_type": "code",
      "source": [
        "arr1 = np.empty((3,4,5,6)) #zeros(),ones()\n",
        "arr1.shape"
      ],
      "metadata": {
        "colab": {
          "base_uri": "https://localhost:8080/"
        },
        "id": "2nghVm_cGjcH",
        "outputId": "124d5f74-80ba-45d7-8071-736f121068ee"
      },
      "execution_count": 6,
      "outputs": [
        {
          "output_type": "execute_result",
          "data": {
            "text/plain": [
              "(3, 4, 5, 6)"
            ]
          },
          "metadata": {},
          "execution_count": 6
        }
      ]
    },
    {
      "cell_type": "code",
      "source": [
        "# vector records\n",
        "arr2 = np.random.randn(500, 8) # 정규분포 \n",
        "arr2.shape"
      ],
      "metadata": {
        "colab": {
          "base_uri": "https://localhost:8080/"
        },
        "id": "aLS9ZCJwHNO_",
        "outputId": "48fd17cc-684a-4eed-c59a-ec0b465e615e"
      },
      "execution_count": 7,
      "outputs": [
        {
          "output_type": "execute_result",
          "data": {
            "text/plain": [
              "(500, 8)"
            ]
          },
          "metadata": {},
          "execution_count": 7
        }
      ]
    },
    {
      "cell_type": "code",
      "source": [
        "# color images\n",
        "arr3 = np.empty((60000,28,28,3)) # 28 by 28, rbg3개의 컬러로 만든 6만개 데이터\n",
        "arr3.shape"
      ],
      "metadata": {
        "colab": {
          "base_uri": "https://localhost:8080/"
        },
        "id": "_Jxm_D12HQTn",
        "outputId": "da40c53a-2231-40d2-de11-24734ed2b30b"
      },
      "execution_count": 8,
      "outputs": [
        {
          "output_type": "execute_result",
          "data": {
            "text/plain": [
              "(60000, 28, 28, 3)"
            ]
          },
          "metadata": {},
          "execution_count": 8
        }
      ]
    },
    {
      "cell_type": "code",
      "source": [
        "# time series\n",
        "arr4 = np.random.randn(20, 365, 4) # 365일 동안 20명의 4개의 중요 건강 특징을 측정한 데이터\n",
        "arr4.shape"
      ],
      "metadata": {
        "colab": {
          "base_uri": "https://localhost:8080/"
        },
        "id": "MLRe_f__HSfv",
        "outputId": "781edd74-49dc-4a26-a79b-c95c3efa166c"
      },
      "execution_count": 9,
      "outputs": [
        {
          "output_type": "execute_result",
          "data": {
            "text/plain": [
              "(20, 365, 4)"
            ]
          },
          "metadata": {},
          "execution_count": 9
        }
      ]
    },
    {
      "cell_type": "markdown",
      "source": [
        "---\n",
        "---"
      ],
      "metadata": {
        "id": "DFuvAotFHbF3"
      }
    },
    {
      "cell_type": "markdown",
      "source": [
        "## Hyperparameter search\n",
        "- epochs\n",
        "- batch-size"
      ],
      "metadata": {
        "id": "KN4GRXcQO6L-"
      }
    },
    {
      "cell_type": "code",
      "source": [
        "#!pip install scikeras"
      ],
      "metadata": {
        "colab": {
          "base_uri": "https://localhost:8080/"
        },
        "id": "jp65T6bUPMHc",
        "outputId": "519389bb-5933-4f36-e29a-6b8ffa997569"
      },
      "execution_count": 10,
      "outputs": [
        {
          "output_type": "stream",
          "name": "stdout",
          "text": [
            "Looking in indexes: https://pypi.org/simple, https://us-python.pkg.dev/colab-wheels/public/simple/\n",
            "Collecting scikeras\n",
            "  Downloading scikeras-0.10.0-py3-none-any.whl (27 kB)\n",
            "Requirement already satisfied: scikit-learn>=1.0.0 in /usr/local/lib/python3.10/dist-packages (from scikeras) (1.2.2)\n",
            "Requirement already satisfied: packaging>=0.21 in /usr/local/lib/python3.10/dist-packages (from scikeras) (23.1)\n",
            "Requirement already satisfied: joblib>=1.1.1 in /usr/local/lib/python3.10/dist-packages (from scikit-learn>=1.0.0->scikeras) (1.2.0)\n",
            "Requirement already satisfied: numpy>=1.17.3 in /usr/local/lib/python3.10/dist-packages (from scikit-learn>=1.0.0->scikeras) (1.22.4)\n",
            "Requirement already satisfied: threadpoolctl>=2.0.0 in /usr/local/lib/python3.10/dist-packages (from scikit-learn>=1.0.0->scikeras) (3.1.0)\n",
            "Requirement already satisfied: scipy>=1.3.2 in /usr/local/lib/python3.10/dist-packages (from scikit-learn>=1.0.0->scikeras) (1.10.1)\n",
            "Installing collected packages: scikeras\n",
            "Successfully installed scikeras-0.10.0\n"
          ]
        }
      ]
    },
    {
      "cell_type": "code",
      "source": [
        "# import numpy as np \n",
        "# import matplotlib.pyplot as plt \n",
        "import tensorflow as tf\n",
        "from sklearn.model_selection import GridSearchCV\n",
        "# from tensorflow.keras.wrappers.scikit_learn import KerasClassifier\n",
        "from scikeras.wrappers import KerasClassifier\n",
        "# OS warning cure\n",
        "import os\n",
        "os.environ['TF_CPP_MIN_LOG_LEVEL'] = '3'\n",
        "\n",
        "# 데이터 세트 준비\n",
        "(train_images, train_labels), (test_images, test_labels) = tf.keras.datasets.mnist.load_data()\n",
        "\n",
        "train_images = train_images.reshape((60000, 28 * 28))\n",
        "train_images = train_images.astype('float32') / 255\n",
        "\n",
        "test_images = test_images.reshape((10000, 28 * 28))\n",
        "test_images = test_images.astype('float32') / 255\n",
        "\n",
        "train_labels = tf.keras.utils.to_categorical(train_labels)\n",
        "test_labels = tf.keras.utils.to_categorical(test_labels)\n",
        "                             \n",
        "# 신경망 모델 구축\n",
        "def build_model():\n",
        "    network = tf.keras.models.Sequential()\n",
        "    network.add(tf.keras.layers.Dense(512, activation='relu', input_shape=(28 * 28,)))\n",
        "    network.add(tf.keras.layers.Dense(10, activation='sigmoid'))\n",
        "\n",
        "    network.compile(optimizer='rmsprop',\n",
        "                loss='categorical_crossentropy',\n",
        "                metrics=['accuracy'])\n",
        "    return network\n",
        "\n",
        "# 하이퍼 매개변수 딕셔너리\n",
        "param_grid = {\n",
        "              'epochs':[1, 2, 3],\t# 에포크 수: 1, 2, 3\n",
        "              'batch_size':[32, 64, 100]\t# 배치 크기: 32, 64, 100\n",
        "             }\n",
        "\n",
        "# 케라스 모델을 scikeras에서 사용하도록 포장한다. \n",
        "model = KerasClassifier(model = build_model, verbose=1)\n",
        "\n",
        "## Elapsed time start\n",
        "import time\n",
        "start = time.time()\n",
        "\n",
        "# 그리드 검색\n",
        "gs = GridSearchCV(\n",
        "    estimator=model,\n",
        "    param_grid=param_grid, \n",
        "    cv=3, \n",
        "    # n_jobs=-1 # comment this line to avoid out-of-memory\n",
        ")\n",
        "\n",
        "# 그리드 검색 결과 출력\n",
        "grid_result = gs.fit(train_images, train_labels)\n",
        "\n",
        "## Elapsed time end\n",
        "end = time.time()\n",
        "print('Elapsed time:', end - start) # Elapsed time: 122.5, 189.5\n",
        "\n",
        "print(grid_result.best_score_) # 0.9725, 0.9711\n",
        "print(grid_result.best_params_) # {'batch_size': 64, 'epochs': 3}\n"
      ],
      "metadata": {
        "colab": {
          "base_uri": "https://localhost:8080/"
        },
        "id": "TwS_o-paHdDd",
        "outputId": "2dff542f-a548-4633-c3b8-bfa6f288bcf4"
      },
      "execution_count": 11,
      "outputs": [
        {
          "output_type": "stream",
          "name": "stdout",
          "text": [
            "Downloading data from https://storage.googleapis.com/tensorflow/tf-keras-datasets/mnist.npz\n",
            "11490434/11490434 [==============================] - 0s 0us/step\n",
            "1250/1250 [==============================] - 9s 7ms/step - loss: 0.2451 - accuracy: 0.9277\n",
            "625/625 [==============================] - 1s 2ms/step\n",
            "1250/1250 [==============================] - 9s 7ms/step - loss: 0.2390 - accuracy: 0.9305\n",
            "625/625 [==============================] - 1s 2ms/step\n",
            "1250/1250 [==============================] - 9s 7ms/step - loss: 0.2356 - accuracy: 0.9291\n",
            "625/625 [==============================] - 1s 2ms/step\n",
            "Epoch 1/2\n",
            "1250/1250 [==============================] - 9s 7ms/step - loss: 0.2419 - accuracy: 0.9288\n",
            "Epoch 2/2\n",
            "1250/1250 [==============================] - 8s 6ms/step - loss: 0.1044 - accuracy: 0.9689\n",
            "625/625 [==============================] - 2s 4ms/step\n",
            "Epoch 1/2\n",
            "1250/1250 [==============================] - 7s 6ms/step - loss: 0.2406 - accuracy: 0.9286\n",
            "Epoch 2/2\n",
            "1250/1250 [==============================] - 8s 6ms/step - loss: 0.0994 - accuracy: 0.9703\n",
            "625/625 [==============================] - 1s 2ms/step\n",
            "Epoch 1/2\n",
            "1250/1250 [==============================] - 9s 7ms/step - loss: 0.2389 - accuracy: 0.9289\n",
            "Epoch 2/2\n",
            "1250/1250 [==============================] - 7s 6ms/step - loss: 0.0973 - accuracy: 0.9709\n",
            "625/625 [==============================] - 2s 3ms/step\n",
            "Epoch 1/3\n",
            "1250/1250 [==============================] - 8s 6ms/step - loss: 0.2431 - accuracy: 0.9283\n",
            "Epoch 2/3\n",
            "1250/1250 [==============================] - 8s 7ms/step - loss: 0.1043 - accuracy: 0.9692\n",
            "Epoch 3/3\n",
            "1250/1250 [==============================] - 8s 6ms/step - loss: 0.0688 - accuracy: 0.9788\n",
            "625/625 [==============================] - 2s 3ms/step\n",
            "Epoch 1/3\n",
            "1250/1250 [==============================] - 8s 6ms/step - loss: 0.2392 - accuracy: 0.9291\n",
            "Epoch 2/3\n",
            "1250/1250 [==============================] - 8s 7ms/step - loss: 0.1004 - accuracy: 0.9704\n",
            "Epoch 3/3\n",
            "1250/1250 [==============================] - 8s 7ms/step - loss: 0.0674 - accuracy: 0.9799\n",
            "625/625 [==============================] - 2s 2ms/step\n",
            "Epoch 1/3\n",
            "1250/1250 [==============================] - 8s 6ms/step - loss: 0.2406 - accuracy: 0.9305\n",
            "Epoch 2/3\n",
            "1250/1250 [==============================] - 8s 7ms/step - loss: 0.0974 - accuracy: 0.9709\n",
            "Epoch 3/3\n",
            "1250/1250 [==============================] - 8s 6ms/step - loss: 0.0643 - accuracy: 0.9808\n",
            "625/625 [==============================] - 1s 2ms/step\n",
            "625/625 [==============================] - 5s 7ms/step - loss: 0.2716 - accuracy: 0.9197\n",
            "313/313 [==============================] - 1s 3ms/step\n",
            "625/625 [==============================] - 6s 8ms/step - loss: 0.2665 - accuracy: 0.9219\n",
            "313/313 [==============================] - 1s 3ms/step\n",
            "625/625 [==============================] - 4s 7ms/step - loss: 0.2657 - accuracy: 0.9233\n",
            "313/313 [==============================] - 1s 3ms/step\n",
            "Epoch 1/2\n",
            "625/625 [==============================] - 5s 7ms/step - loss: 0.2694 - accuracy: 0.9207\n",
            "Epoch 2/2\n",
            "625/625 [==============================] - 4s 7ms/step - loss: 0.1148 - accuracy: 0.9658\n",
            "313/313 [==============================] - 1s 3ms/step\n",
            "Epoch 1/2\n",
            "625/625 [==============================] - 5s 7ms/step - loss: 0.2679 - accuracy: 0.9219\n",
            "Epoch 2/2\n",
            "625/625 [==============================] - 4s 7ms/step - loss: 0.1113 - accuracy: 0.9671\n",
            "313/313 [==============================] - 1s 3ms/step\n",
            "Epoch 1/2\n",
            "625/625 [==============================] - 6s 8ms/step - loss: 0.2710 - accuracy: 0.9206\n",
            "Epoch 2/2\n",
            "625/625 [==============================] - 4s 7ms/step - loss: 0.1081 - accuracy: 0.9676\n",
            "313/313 [==============================] - 1s 2ms/step\n",
            "Epoch 1/3\n",
            "625/625 [==============================] - 5s 8ms/step - loss: 0.2730 - accuracy: 0.9204\n",
            "Epoch 2/3\n",
            "625/625 [==============================] - 4s 7ms/step - loss: 0.1139 - accuracy: 0.9657\n",
            "Epoch 3/3\n",
            "625/625 [==============================] - 4s 7ms/step - loss: 0.0737 - accuracy: 0.9775\n",
            "313/313 [==============================] - 1s 2ms/step\n",
            "Epoch 1/3\n",
            "625/625 [==============================] - 5s 7ms/step - loss: 0.2674 - accuracy: 0.9220\n",
            "Epoch 2/3\n",
            "625/625 [==============================] - 4s 7ms/step - loss: 0.1101 - accuracy: 0.9668\n",
            "Epoch 3/3\n",
            "625/625 [==============================] - 5s 8ms/step - loss: 0.0726 - accuracy: 0.9778\n",
            "313/313 [==============================] - 1s 2ms/step\n",
            "Epoch 1/3\n",
            "625/625 [==============================] - 6s 8ms/step - loss: 0.2682 - accuracy: 0.9219\n",
            "Epoch 2/3\n",
            "625/625 [==============================] - 4s 7ms/step - loss: 0.1089 - accuracy: 0.9682\n",
            "Epoch 3/3\n",
            "625/625 [==============================] - 4s 7ms/step - loss: 0.0716 - accuracy: 0.9790\n",
            "313/313 [==============================] - 1s 2ms/step\n",
            "400/400 [==============================] - 4s 9ms/step - loss: 0.2987 - accuracy: 0.9135\n",
            "200/200 [==============================] - 1s 3ms/step\n",
            "400/400 [==============================] - 4s 8ms/step - loss: 0.2923 - accuracy: 0.9161\n",
            "200/200 [==============================] - 1s 3ms/step\n",
            "400/400 [==============================] - 5s 11ms/step - loss: 0.2913 - accuracy: 0.9161\n",
            "200/200 [==============================] - 1s 3ms/step\n",
            "Epoch 1/2\n",
            "400/400 [==============================] - 4s 8ms/step - loss: 0.2929 - accuracy: 0.9172\n",
            "Epoch 2/2\n",
            "400/400 [==============================] - 3s 8ms/step - loss: 0.1259 - accuracy: 0.9631\n",
            "200/200 [==============================] - 1s 3ms/step\n",
            "Epoch 1/2\n",
            "400/400 [==============================] - 4s 8ms/step - loss: 0.2948 - accuracy: 0.9151\n",
            "Epoch 2/2\n",
            "400/400 [==============================] - 3s 8ms/step - loss: 0.1240 - accuracy: 0.9644\n",
            "200/200 [==============================] - 1s 5ms/step\n",
            "Epoch 1/2\n",
            "400/400 [==============================] - 4s 8ms/step - loss: 0.2961 - accuracy: 0.9143\n",
            "Epoch 2/2\n",
            "400/400 [==============================] - 3s 8ms/step - loss: 0.1223 - accuracy: 0.9637\n",
            "200/200 [==============================] - 1s 3ms/step\n",
            "Epoch 1/3\n",
            "400/400 [==============================] - 4s 10ms/step - loss: 0.2986 - accuracy: 0.9143\n",
            "Epoch 2/3\n",
            "400/400 [==============================] - 3s 8ms/step - loss: 0.1286 - accuracy: 0.9624\n",
            "Epoch 3/3\n",
            "400/400 [==============================] - 3s 8ms/step - loss: 0.0858 - accuracy: 0.9745\n",
            "200/200 [==============================] - 1s 3ms/step\n",
            "Epoch 1/3\n",
            "400/400 [==============================] - 4s 9ms/step - loss: 0.2939 - accuracy: 0.9161\n",
            "Epoch 2/3\n",
            "400/400 [==============================] - 4s 9ms/step - loss: 0.1231 - accuracy: 0.9635\n",
            "Epoch 3/3\n",
            "400/400 [==============================] - 3s 8ms/step - loss: 0.0807 - accuracy: 0.9762\n",
            "200/200 [==============================] - 1s 3ms/step\n",
            "Epoch 1/3\n",
            "400/400 [==============================] - 7s 16ms/step - loss: 0.2975 - accuracy: 0.9140\n",
            "Epoch 2/3\n",
            "400/400 [==============================] - 4s 11ms/step - loss: 0.1250 - accuracy: 0.9635\n",
            "Epoch 3/3\n",
            "400/400 [==============================] - 3s 8ms/step - loss: 0.0815 - accuracy: 0.9758\n",
            "200/200 [==============================] - 1s 3ms/step\n",
            "Epoch 1/3\n",
            "1875/1875 [==============================] - 12s 6ms/step - loss: 0.2026 - accuracy: 0.9395\n",
            "Epoch 2/3\n",
            "1875/1875 [==============================] - 12s 6ms/step - loss: 0.0867 - accuracy: 0.9747\n",
            "Epoch 3/3\n",
            "1875/1875 [==============================] - 12s 6ms/step - loss: 0.0600 - accuracy: 0.9822\n",
            "Elapsed time: 424.25132846832275\n",
            "0.9712333333333333\n",
            "{'batch_size': 32, 'epochs': 3}\n"
          ]
        }
      ]
    }
  ]
}